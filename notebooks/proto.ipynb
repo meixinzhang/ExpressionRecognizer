{
 "cells": [
  {
   "cell_type": "markdown",
   "metadata": {},
   "source": [
    "Load file names and targets"
   ]
  },
  {
   "cell_type": "code",
   "execution_count": 1,
   "metadata": {},
   "outputs": [
    {
     "name": "stdout",
     "output_type": "stream",
     "text": [
      "There are 28709 training images\n",
      "There are 7178 test images\n"
     ]
    }
   ],
   "source": [
    "from sklearn.datasets import load_files       \n",
    "from keras.utils import np_utils\n",
    "import numpy as np\n",
    "from glob import glob\n",
    "\n",
    "# load image filenames with corresponding targets\n",
    "def load_dataset(path):\n",
    "    data = load_files(path)\n",
    "    imgs = np.array(data['filenames'])\n",
    "    targets = np_utils.to_categorical(np.array(data['target']), 7)\n",
    "    return imgs, targets\n",
    "\n",
    "train_filenames, train_targets = load_dataset(\"../data/processed/train\")\n",
    "test_filenames, test_targets = load_dataset(\"../data/processed/test\")\n",
    "\n",
    "print(\"There are %d training images\" % len(train_filenames))\n",
    "print(\"There are %d test images\" % len(test_filenames))"
   ]
  },
  {
   "cell_type": "markdown",
   "metadata": {},
   "source": [
    "helpers to load image file"
   ]
  },
  {
   "cell_type": "code",
   "execution_count": 2,
   "metadata": {},
   "outputs": [],
   "source": [
    "from keras.preprocessing import image\n",
    "from tqdm import tqdm\n",
    "def my_load_image(img_path):\n",
    "    img = image.load_img(img_path, target_size=(48,48))\n",
    "    arr = image.img_to_array(img)\n",
    "    return np.expand_dims(arr, axis=0)\n",
    "\n",
    "def my_load_images(paths):\n",
    "    imgs = [my_load_image(p) for p in tqdm(paths)]\n",
    "    return np.vstack(imgs)"
   ]
  },
  {
   "cell_type": "markdown",
   "metadata": {},
   "source": [
    "test helpers"
   ]
  },
  {
   "cell_type": "code",
   "execution_count": 3,
   "metadata": {},
   "outputs": [
    {
     "name": "stdout",
     "output_type": "stream",
     "text": [
      "(1, 48, 48, 3)\n"
     ]
    }
   ],
   "source": [
    "l = my_load_image(train_filenames[0] )\n",
    "print(l.shape)"
   ]
  },
  {
   "cell_type": "markdown",
   "metadata": {},
   "source": [
    "Create model"
   ]
  },
  {
   "cell_type": "code",
   "execution_count": 12,
   "metadata": {},
   "outputs": [
    {
     "name": "stdout",
     "output_type": "stream",
     "text": [
      "Model: \"sequential_2\"\n",
      "_________________________________________________________________\n",
      "Layer (type)                 Output Shape              Param #   \n",
      "=================================================================\n",
      "conv2d_6 (Conv2D)            (None, 48, 48, 32)        416       \n",
      "_________________________________________________________________\n",
      "max_pooling2d_6 (MaxPooling2 (None, 24, 24, 32)        0         \n",
      "_________________________________________________________________\n",
      "conv2d_7 (Conv2D)            (None, 24, 24, 64)        8256      \n",
      "_________________________________________________________________\n",
      "max_pooling2d_7 (MaxPooling2 (None, 12, 12, 64)        0         \n",
      "_________________________________________________________________\n",
      "conv2d_8 (Conv2D)            (None, 12, 12, 128)       32896     \n",
      "_________________________________________________________________\n",
      "max_pooling2d_8 (MaxPooling2 (None, 6, 6, 128)         0         \n",
      "_________________________________________________________________\n",
      "flatten_2 (Flatten)          (None, 4608)              0         \n",
      "_________________________________________________________________\n",
      "dense_6 (Dense)              (None, 256)               1179904   \n",
      "_________________________________________________________________\n",
      "dense_7 (Dense)              (None, 512)               131584    \n",
      "_________________________________________________________________\n",
      "dense_8 (Dense)              (None, 7)                 3591      \n",
      "=================================================================\n",
      "Total params: 1,356,647\n",
      "Trainable params: 1,356,647\n",
      "Non-trainable params: 0\n",
      "_________________________________________________________________\n"
     ]
    }
   ],
   "source": [
    "from keras.utils import np_utils\n",
    "from keras.models import Sequential\n",
    "from keras.layers import Conv2D, MaxPooling2D, Flatten, Dense, Dropout\n",
    "\n",
    "proto = Sequential()\n",
    "\n",
    "proto.add(Conv2D(filters=32,kernel_size=2,padding='same',activation='relu',input_shape=(48,48,3)))\n",
    "proto.add(MaxPooling2D(pool_size=2))\n",
    "proto.add(Conv2D(filters=64,kernel_size=2,padding='same',activation='relu'))\n",
    "proto.add(MaxPooling2D(pool_size=2))\n",
    "proto.add(Conv2D(filters=128,kernel_size=2,padding='same',activation='relu'))\n",
    "proto.add(MaxPooling2D(pool_size=2))\n",
    "proto.add(Flatten())\n",
    "proto.add(Dense(256,activation='relu'))\n",
    "proto.add(Dense(512,activation='tanh'))\n",
    "proto.add(Dense(7,activation='softmax'))\n",
    "\n",
    "proto.summary()"
   ]
  },
  {
   "cell_type": "code",
   "execution_count": null,
   "metadata": {},
   "outputs": [],
   "source": [
    "from keras.utils import np_utils\n",
    "from keras.models import Sequential\n",
    "from keras.layers import Conv2D, MaxPooling2D, Flatten, Dense, Dropout\n",
    "\n",
    "proto = Sequential()\n",
    "\n",
    "proto.add(Conv2D(filters=32,kernel_size=2,padding='same',activation='relu',input_shape=(48,48,3)))\n",
    "proto.add(MaxPooling2D(pool_size=2))\n",
    "proto.add(Conv2D(filters=64,kernel_size=2,padding='same',activation='relu'))\n",
    "proto.add(MaxPooling2D(pool_size=2))\n",
    "proto.add(Conv2D(filters=128,kernel_size=2,padding='same',activation='relu'))\n",
    "proto.add(MaxPooling2D(pool_size=2))\n",
    "proto.add(Flatten())\n",
    "proto.add(Dense(256,activation='relu'))\n",
    "proto.add(Dense(512,activation='tanh'))\n",
    "proto.add(Dense(7,activation='softmax'))\n",
    "\n",
    "proto.summary()"
   ]
  },
  {
   "cell_type": "markdown",
   "metadata": {},
   "source": [
    "Compile"
   ]
  },
  {
   "cell_type": "code",
   "execution_count": 13,
   "metadata": {},
   "outputs": [],
   "source": [
    "proto.compile(loss='categorical_crossentropy',optimizer='adam',metrics=['accuracy'])"
   ]
  },
  {
   "cell_type": "markdown",
   "metadata": {},
   "source": [
    "load train image inputs"
   ]
  },
  {
   "cell_type": "code",
   "execution_count": 5,
   "metadata": {},
   "outputs": [
    {
     "name": "stderr",
     "output_type": "stream",
     "text": [
      "100%|██████████████████████████████████████████████████████████████████████████| 28709/28709 [00:09<00:00, 3174.24it/s]\n",
      "100%|████████████████████████████████████████████████████████████████████████████| 7178/7178 [00:02<00:00, 3246.37it/s]\n"
     ]
    }
   ],
   "source": [
    "train_inputs = my_load_images(train_filenames)\n",
    "train_inputs /= 255\n",
    "test_inputs = my_load_images(test_filenames)\n",
    "test_inputs /= 255"
   ]
  },
  {
   "cell_type": "markdown",
   "metadata": {},
   "source": [
    "<h2>save the np arrays (not used) (do not run)</h2>\n"
   ]
  },
  {
   "cell_type": "code",
   "execution_count": 40,
   "metadata": {
    "scrolled": true
   },
   "outputs": [],
   "source": [
    "np.save(\"train_inputs\", train_inputs)\n",
    "np.save(\"train_targets\", train_targets)\n",
    "np.save(\"test_inputs\", test_inputs)\n",
    "np.save(\"test_targets\", test_targets)"
   ]
  },
  {
   "cell_type": "markdown",
   "metadata": {},
   "source": [
    "train model"
   ]
  },
  {
   "cell_type": "code",
   "execution_count": 14,
   "metadata": {},
   "outputs": [
    {
     "name": "stdout",
     "output_type": "stream",
     "text": [
      "Epoch 1/10\n",
      "717/718 [============================>.] - ETA: 0s - loss: 1.6221 - accuracy: 0.3529\n",
      "Epoch 00001: val_loss improved from inf to 1.43592, saving model to ..\\models\\mycnn_prototype.hdf5\n",
      "718/718 [==============================] - 40s 56ms/step - loss: 1.6223 - accuracy: 0.3529 - val_loss: 1.4359 - val_accuracy: 0.4507\n",
      "Epoch 2/10\n",
      "717/718 [============================>.] - ETA: 0s - loss: 1.3667 - accuracy: 0.4708\n",
      "Epoch 00002: val_loss improved from 1.43592 to 1.30487, saving model to ..\\models\\mycnn_prototype.hdf5\n",
      "718/718 [==============================] - 41s 58ms/step - loss: 1.3662 - accuracy: 0.4711 - val_loss: 1.3049 - val_accuracy: 0.5015\n",
      "Epoch 3/10\n",
      "717/718 [============================>.] - ETA: 0s - loss: 1.2493 - accuracy: 0.5216\n",
      "Epoch 00003: val_loss improved from 1.30487 to 1.24472, saving model to ..\\models\\mycnn_prototype.hdf5\n",
      "718/718 [==============================] - 40s 56ms/step - loss: 1.2492 - accuracy: 0.5216 - val_loss: 1.2447 - val_accuracy: 0.5251\n",
      "Epoch 4/10\n",
      "717/718 [============================>.] - ETA: 0s - loss: 1.1494 - accuracy: 0.5625\n",
      "Epoch 00004: val_loss did not improve from 1.24472\n",
      "718/718 [==============================] - 41s 57ms/step - loss: 1.1495 - accuracy: 0.5625 - val_loss: 1.2920 - val_accuracy: 0.5001\n",
      "Epoch 5/10\n",
      "717/718 [============================>.] - ETA: 0s - loss: 1.0571 - accuracy: 0.5968\n",
      "Epoch 00005: val_loss did not improve from 1.24472\n",
      "718/718 [==============================] - 41s 57ms/step - loss: 1.0573 - accuracy: 0.5967 - val_loss: 1.2764 - val_accuracy: 0.5209\n",
      "Epoch 6/10\n",
      "717/718 [============================>.] - ETA: 0s - loss: 0.9597 - accuracy: 0.6381\n",
      "Epoch 00006: val_loss did not improve from 1.24472\n",
      "718/718 [==============================] - 41s 57ms/step - loss: 0.9597 - accuracy: 0.6382 - val_loss: 1.2884 - val_accuracy: 0.5337\n",
      "Epoch 7/10\n",
      "717/718 [============================>.] - ETA: 0s - loss: 0.8591 - accuracy: 0.6737\n",
      "Epoch 00007: val_loss did not improve from 1.24472\n",
      "718/718 [==============================] - 42s 58ms/step - loss: 0.8591 - accuracy: 0.6738 - val_loss: 1.3084 - val_accuracy: 0.5365\n",
      "Epoch 8/10\n",
      "717/718 [============================>.] - ETA: 0s - loss: 0.7589 - accuracy: 0.7142\n",
      "Epoch 00008: val_loss did not improve from 1.24472\n",
      "718/718 [==============================] - 42s 59ms/step - loss: 0.7589 - accuracy: 0.7141 - val_loss: 1.4157 - val_accuracy: 0.5341\n",
      "Epoch 9/10\n",
      "717/718 [============================>.] - ETA: 0s - loss: 0.6570 - accuracy: 0.7573\n",
      "Epoch 00009: val_loss did not improve from 1.24472\n",
      "718/718 [==============================] - 42s 59ms/step - loss: 0.6569 - accuracy: 0.7574 - val_loss: 1.5603 - val_accuracy: 0.5368\n",
      "Epoch 10/10\n",
      "717/718 [============================>.] - ETA: 0s - loss: 0.5605 - accuracy: 0.7894\n",
      "Epoch 00010: val_loss did not improve from 1.24472\n",
      "718/718 [==============================] - 44s 61ms/step - loss: 0.5606 - accuracy: 0.7893 - val_loss: 1.6811 - val_accuracy: 0.5357\n"
     ]
    }
   ],
   "source": [
    "from keras.callbacks import ModelCheckpoint\n",
    "\n",
    "epoch = 10\n",
    "\n",
    "checkpointer = ModelCheckpoint(filepath='..\\models\\mycnn_prototype.hdf5',verbose=1,save_best_only= True)\n",
    "\n",
    "hist = proto.fit(train_inputs, train_targets , \n",
    "          validation_data=(test_inputs , test_targets),\n",
    "          epochs= epoch, batch_size=40, callbacks=[checkpointer], verbose=1)"
   ]
  },
  {
   "cell_type": "code",
   "execution_count": 15,
   "metadata": {},
   "outputs": [
    {
     "data": {
      "text/plain": [
       "<matplotlib.legend.Legend at 0x21dae435b38>"
      ]
     },
     "execution_count": 15,
     "metadata": {},
     "output_type": "execute_result"
    },
    {
     "data": {
      "image/png": "[encoded data removed]",
      "text/plain": [
       "<Figure size 432x288 with 1 Axes>"
      ]
     },
     "metadata": {
      "needs_background": "light"
     },
     "output_type": "display_data"
    }
   ],
   "source": [
    "import matplotlib.pyplot as plt\n",
    "plt.plot(hist.history['loss'], label='loss')\n",
    "plt.plot(hist.history['val_loss'], label='validation loss')\n",
    "plt.plot(hist.history['accuracy'], label='accuracy')\n",
    "plt.plot(hist.history['val_accuracy'], label='val_accuracy')\n",
    "plt.legend(loc=\"upper left\")\n"
   ]
  },
  {
   "cell_type": "code",
   "execution_count": null,
   "metadata": {},
   "outputs": [],
   "source": []
  },
  {
   "cell_type": "code",
   "execution_count": null,
   "metadata": {},
   "outputs": [],
   "source": []
  }
 ],
 "metadata": {
  "kernelspec": {
   "display_name": "Python 3",
   "language": "python",
   "name": "python3"
  },
  "language_info": {
   "codemirror_mode": {
    "name": "ipython",
    "version": 3
   },
   "file_extension": ".py",
   "mimetype": "text/x-python",
   "name": "python",
   "nbconvert_exporter": "python",
   "pygments_lexer": "ipython3",
   "version": "3.7.0"
  }
 },
 "nbformat": 4,
 "nbformat_minor": 4
}
